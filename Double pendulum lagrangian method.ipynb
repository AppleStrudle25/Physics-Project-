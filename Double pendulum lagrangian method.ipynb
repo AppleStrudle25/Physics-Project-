{
 "cells": [
  {
   "cell_type": "code",
   "execution_count": 21,
   "id": "9f9ea938",
   "metadata": {},
   "outputs": [],
   "source": [
    "import numpy as np  \n",
    "import matplotlib.pyplot as plt\n",
    "import sympy as smp\n",
    "from sympy import *\n",
    "from scipy.integrate import odeint\n",
    "from matplotlib import animation\n",
    "from IPython.display import Latex, display"
   ]
  },
  {
   "cell_type": "markdown",
   "id": "87d5708f",
   "metadata": {},
   "source": [
    "### Boundry conditions"
   ]
  },
  {
   "cell_type": "code",
   "execution_count": 22,
   "id": "a3aee3d2",
   "metadata": {},
   "outputs": [],
   "source": [
    "# Boundry conditions\n",
    "L1, L2=smp.symbols(\"L1 L2\")\n",
    "theta1, theta2=smp.symbols(r'\\theta_1, \\theta_2', cls=smp.Function)\n",
    "t, g= smp.symbols(\"t g\")\n",
    "m1, m2=smp.symbols(\"m1 m2\")"
   ]
  },
  {
   "cell_type": "code",
   "execution_count": 23,
   "id": "350e381b",
   "metadata": {},
   "outputs": [],
   "source": [
    "theta1=theta1(t)\n",
    "theta2=theta2(t)"
   ]
  },
  {
   "cell_type": "markdown",
   "id": "e7af4dd1",
   "metadata": {},
   "source": [
    "### Defining the derivatives"
   ]
  },
  {
   "cell_type": "code",
   "execution_count": 24,
   "id": "38fe4267",
   "metadata": {},
   "outputs": [],
   "source": [
    "init_printing()\n",
    "theta1_d = smp.diff(theta1, t)\n",
    "theta2_d = smp.diff(theta2, t)\n",
    "theta1_dd = smp.diff(theta1_d, t)\n",
    "theta2_dd = smp.diff(theta2_d,t) "
   ]
  },
  {
   "cell_type": "code",
   "execution_count": 25,
   "id": "04860e6b",
   "metadata": {},
   "outputs": [
    {
     "data": {
      "text/latex": [
       "\\begin{equation}\\frac{d}{d t} \\theta_{1}{\\left(t \\right)}\\mathtt{\\text{, }}\\frac{d}{d t} \\theta_{2}{\\left(t \\right)}\\mathtt{\\text{, }}\\frac{d^{2}}{d t^{2}} \\theta_{1}{\\left(t \\right)}\\mathtt{\\text{, }}\\frac{d^{2}}{d t^{2}} \\theta_{2}{\\left(t \\right)}\\end{equation} "
      ],
      "text/plain": [
       "<IPython.core.display.Latex object>"
      ]
     },
     "metadata": {},
     "output_type": "display_data"
    }
   ],
   "source": [
    "display(Latex('''\\\\begin{equation}'''\n",
    "      + latex(theta1_d)+latex(', ')+latex(theta2_d)+latex(', ')+latex(theta1_dd)+latex(', ')+latex(theta2_dd)\n",
    "      + '''\\end{equation} '''))"
   ]
  },
  {
   "cell_type": "markdown",
   "id": "7eb0748c",
   "metadata": {},
   "source": [
    "### Defining the positions of each point mass"
   ]
  },
  {
   "cell_type": "code",
   "execution_count": 26,
   "id": "1daae870",
   "metadata": {},
   "outputs": [],
   "source": [
    "X1=L1*smp.sin(theta1)\n",
    "Y1=-L1*smp.cos(theta1)\n",
    "X2=L1*smp.sin(theta1)+L2*smp.sin(theta2)\n",
    "Y2=-(L1*smp.cos(theta1)+L2*smp.cos(theta2))\n"
   ]
  },
  {
   "cell_type": "code",
   "execution_count": 27,
   "id": "eb9381f2",
   "metadata": {},
   "outputs": [
    {
     "data": {
      "text/latex": [
       "\\begin{equation}\\mathtt{\\text{X1 = }}L_{1} \\sin{\\left(\\theta_{1}{\\left(t \\right)} \\right)}\\mathtt{\\text{, }}\\mathtt{\\text{Y1 =}}- L_{1} \\cos{\\left(\\theta_{1}{\\left(t \\right)} \\right)}\\end{equation} "
      ],
      "text/plain": [
       "<IPython.core.display.Latex object>"
      ]
     },
     "metadata": {},
     "output_type": "display_data"
    },
    {
     "data": {
      "text/latex": [
       "\\begin{equation}\\mathtt{\\text{X2 = }}L_{1} \\sin{\\left(\\theta_{1}{\\left(t \\right)} \\right)} + L_{2} \\sin{\\left(\\theta_{2}{\\left(t \\right)} \\right)}\\mathtt{\\text{, }}\\mathtt{\\text{Y2 =}}- L_{1} \\cos{\\left(\\theta_{1}{\\left(t \\right)} \\right)} - L_{2} \\cos{\\left(\\theta_{2}{\\left(t \\right)} \\right)}\\end{equation} "
      ],
      "text/plain": [
       "<IPython.core.display.Latex object>"
      ]
     },
     "metadata": {},
     "output_type": "display_data"
    }
   ],
   "source": [
    "display(Latex('''\\\\begin{equation}'''\n",
    "      + latex('X1 = ')+latex(X1)+latex(', ')+latex('Y1 =')+latex(Y1)+ '''\\end{equation} '''))\n",
    "display(Latex('''\\\\begin{equation}'''\n",
    "      + latex('X2 = ')+latex(X2)+latex(', ')+latex('Y2 =')+latex(Y2)+ '''\\end{equation} '''))\n"
   ]
  },
  {
   "cell_type": "markdown",
   "id": "42cb8cb1",
   "metadata": {},
   "source": [
    "### Defining the kinetic and potential energies"
   ]
  },
  {
   "cell_type": "code",
   "execution_count": 28,
   "id": "7f1612ae",
   "metadata": {},
   "outputs": [],
   "source": [
    "T1=1/2 * m1 * (smp.diff(X1, t)**2 + smp.diff(Y1, t)**2)\n",
    "T2=1/2 * m2 * (smp.diff(X2, t)**2 + smp.diff(Y2, t)**2)\n",
    "T=T1+T2\n",
    "U1=-m1*g*L1*smp.cos(theta1)\n",
    "U2=-m2*g*(L1*smp.cos(theta1)+L2*smp.cos(theta2))\n",
    "U=U1+U2\n",
    "L=T-U"
   ]
  },
  {
   "cell_type": "code",
   "execution_count": 29,
   "id": "e0a73aa9",
   "metadata": {},
   "outputs": [
    {
     "data": {
      "text/latex": [
       "\\begin{equation}\\mathtt{\\text{T1 = }}0.5 m_{1} \\left(L_{1}^{2} \\sin^{2}{\\left(\\theta_{1}{\\left(t \\right)} \\right)} \\left(\\frac{d}{d t} \\theta_{1}{\\left(t \\right)}\\right)^{2} + L_{1}^{2} \\cos^{2}{\\left(\\theta_{1}{\\left(t \\right)} \\right)} \\left(\\frac{d}{d t} \\theta_{1}{\\left(t \\right)}\\right)^{2}\\right)\\mathtt{\\text{, }}\\mathtt{\\text{U1 =}}- L_{1} g m_{1} \\cos{\\left(\\theta_{1}{\\left(t \\right)} \\right)}\\end{equation} "
      ],
      "text/plain": [
       "<IPython.core.display.Latex object>"
      ]
     },
     "metadata": {},
     "output_type": "display_data"
    },
    {
     "data": {
      "text/latex": [
       "\\begin{equation}\\mathtt{\\text{T2 = }}0.5 m_{2} \\left(\\left(L_{1} \\sin{\\left(\\theta_{1}{\\left(t \\right)} \\right)} \\frac{d}{d t} \\theta_{1}{\\left(t \\right)} + L_{2} \\sin{\\left(\\theta_{2}{\\left(t \\right)} \\right)} \\frac{d}{d t} \\theta_{2}{\\left(t \\right)}\\right)^{2} + \\left(L_{1} \\cos{\\left(\\theta_{1}{\\left(t \\right)} \\right)} \\frac{d}{d t} \\theta_{1}{\\left(t \\right)} + L_{2} \\cos{\\left(\\theta_{2}{\\left(t \\right)} \\right)} \\frac{d}{d t} \\theta_{2}{\\left(t \\right)}\\right)^{2}\\right)\\mathtt{\\text{, }}\\mathtt{\\text{U2 =}}- g m_{2} \\left(L_{1} \\cos{\\left(\\theta_{1}{\\left(t \\right)} \\right)} + L_{2} \\cos{\\left(\\theta_{2}{\\left(t \\right)} \\right)}\\right)\\end{equation} "
      ],
      "text/plain": [
       "<IPython.core.display.Latex object>"
      ]
     },
     "metadata": {},
     "output_type": "display_data"
    }
   ],
   "source": [
    "display(Latex('''\\\\begin{equation}'''\n",
    "      + latex('T1 = ')+latex(T1)+latex(', ')+latex('U1 =')+latex(U1)+ '''\\end{equation} '''))\n",
    "display(Latex('''\\\\begin{equation}'''\n",
    "      + latex('T2 = ')+latex(T2)+latex(', ')+latex('U2 =')+latex(U2)+ '''\\end{equation} '''))"
   ]
  },
  {
   "cell_type": "markdown",
   "id": "ab26c988",
   "metadata": {},
   "source": [
    "### The Lagrangian of the double pendulum is:"
   ]
  },
  {
   "cell_type": "code",
   "execution_count": 30,
   "id": "77d1e938",
   "metadata": {},
   "outputs": [
    {
     "data": {
      "image/png": "[encoded data removed]",
      "text/latex": [
       "$\\displaystyle L_{1} g m_{1} \\cos{\\left(\\theta_{1}{\\left(t \\right)} \\right)} + g m_{2} \\left(L_{1} \\cos{\\left(\\theta_{1}{\\left(t \\right)} \\right)} + L_{2} \\cos{\\left(\\theta_{2}{\\left(t \\right)} \\right)}\\right) + 0.5 m_{1} \\left(L_{1}^{2} \\sin^{2}{\\left(\\theta_{1}{\\left(t \\right)} \\right)} \\left(\\frac{d}{d t} \\theta_{1}{\\left(t \\right)}\\right)^{2} + L_{1}^{2} \\cos^{2}{\\left(\\theta_{1}{\\left(t \\right)} \\right)} \\left(\\frac{d}{d t} \\theta_{1}{\\left(t \\right)}\\right)^{2}\\right) + 0.5 m_{2} \\left(\\left(L_{1} \\sin{\\left(\\theta_{1}{\\left(t \\right)} \\right)} \\frac{d}{d t} \\theta_{1}{\\left(t \\right)} + L_{2} \\sin{\\left(\\theta_{2}{\\left(t \\right)} \\right)} \\frac{d}{d t} \\theta_{2}{\\left(t \\right)}\\right)^{2} + \\left(L_{1} \\cos{\\left(\\theta_{1}{\\left(t \\right)} \\right)} \\frac{d}{d t} \\theta_{1}{\\left(t \\right)} + L_{2} \\cos{\\left(\\theta_{2}{\\left(t \\right)} \\right)} \\frac{d}{d t} \\theta_{2}{\\left(t \\right)}\\right)^{2}\\right)$"
      ],
      "text/plain": [
       "                                                                              \n",
       "                                                                              \n",
       "L₁⋅g⋅m₁⋅cos(\\theta₁(t)) + g⋅m₂⋅(L₁⋅cos(\\theta₁(t)) + L₂⋅cos(\\theta₂(t))) + 0.5\n",
       "                                                                              \n",
       "\n",
       "    ⎛                                     2                                   \n",
       "    ⎜  2    2             ⎛d             ⎞      2    2             ⎛d         \n",
       "⋅m₁⋅⎜L₁ ⋅sin (\\theta₁(t))⋅⎜──(\\theta₁(t))⎟  + L₁ ⋅cos (\\theta₁(t))⋅⎜──(\\theta₁\n",
       "    ⎝                     ⎝dt            ⎠                         ⎝dt        \n",
       "\n",
       "     2⎞          ⎛                                                            \n",
       "    ⎞ ⎟          ⎜⎛                   d                                   d   \n",
       "(t))⎟ ⎟ + 0.5⋅m₂⋅⎜⎜L₁⋅sin(\\theta₁(t))⋅──(\\theta₁(t)) + L₂⋅sin(\\theta₂(t))⋅──(\\\n",
       "    ⎠ ⎠          ⎝⎝                   dt                                  dt  \n",
       "\n",
       "           2                                                                  \n",
       "          ⎞    ⎛                   d                                   d      \n",
       "theta₂(t))⎟  + ⎜L₁⋅cos(\\theta₁(t))⋅──(\\theta₁(t)) + L₂⋅cos(\\theta₂(t))⋅──(\\the\n",
       "          ⎠    ⎝                   dt                                  dt     \n",
       "\n",
       "        2⎞\n",
       "       ⎞ ⎟\n",
       "ta₂(t))⎟ ⎟\n",
       "       ⎠ ⎠"
      ]
     },
     "execution_count": 30,
     "metadata": {},
     "output_type": "execute_result"
    }
   ],
   "source": [
    "L"
   ]
  },
  {
   "cell_type": "markdown",
   "id": "acf88688",
   "metadata": {},
   "source": [
    "#### The Lagrangian of the double pendulum is thus L = L1+L2"
   ]
  },
  {
   "cell_type": "markdown",
   "id": "53f881b6",
   "metadata": {},
   "source": [
    "### Solving Euler-Lagrange equations"
   ]
  },
  {
   "cell_type": "code",
   "execution_count": 31,
   "id": "25eeb704",
   "metadata": {},
   "outputs": [],
   "source": [
    "LE1 = smp.diff(L, theta1) - smp.diff(smp.diff(L, theta1_d), t).simplify()\n",
    "LE2 = smp.diff(L, theta2) - smp.diff(smp.diff(L, theta2_d), t).simplify()"
   ]
  },
  {
   "cell_type": "markdown",
   "id": "46da7519",
   "metadata": {},
   "source": [
    "#### we are left with two partial differential equations with two second derivatives. In order to get a second order ODE we need to solve for the two second derivatives. "
   ]
  },
  {
   "cell_type": "code",
   "execution_count": 32,
   "id": "3dcf5e67",
   "metadata": {},
   "outputs": [],
   "source": [
    "sol=smp.solve([LE1,LE2], (theta1_dd, theta2_dd), simplify=False, rational=False)"
   ]
  },
  {
   "cell_type": "markdown",
   "id": "81cf1bff",
   "metadata": {},
   "source": [
    "#### although we now have expressions of the second derivatives of both thetas and are left with two second order ODEs we have another problem. Python can only solve first order ODEs. The next thing we should do is convert our equations to first order ODEs as follows:"
   ]
  },
  {
   "cell_type": "markdown",
   "id": "98a1ea2c",
   "metadata": {},
   "source": [
    "Define Z for each θ:"
   ]
  },
  {
   "cell_type": "markdown",
   "id": "f254b2ec",
   "metadata": {},
   "source": [
    "$$Z_1 = \\frac{d\\theta_1}{dt},Z_2=\\frac{d\\theta_2}{dt}$$"
   ]
  },
  {
   "cell_type": "markdown",
   "id": "bed76145",
   "metadata": {},
   "source": [
    "By substituting the second derivatives with Z we get a representation of a first order ODE!"
   ]
  },
  {
   "cell_type": "markdown",
   "id": "836ef952",
   "metadata": {},
   "source": [
    "Next, we want to convert all of our symbolic notations to numerical ones. "
   ]
  },
  {
   "cell_type": "code",
   "execution_count": 33,
   "id": "3370958c",
   "metadata": {},
   "outputs": [],
   "source": [
    "dtheta1dt_f = smp.lambdify(theta1_d, theta1_d)\n",
    "dtheta2dt_f = smp.lambdify(theta2_d, theta2_d)\n",
    "dZ1dt_f = smp.lambdify((t,g,m1,m2,L1,L2,theta1,theta2,theta1_d,theta2_d), sol[theta1_dd])\n",
    "dZ2dt_f = smp.lambdify((t,g,m1,m2,L1,L2,theta1,theta2,theta1_d,theta2_d), sol[theta2_dd])"
   ]
  },
  {
   "cell_type": "markdown",
   "id": "ce7b416d",
   "metadata": {},
   "source": [
    "Now we need to define a vector: "
   ]
  },
  {
   "cell_type": "markdown",
   "id": "559d1075",
   "metadata": {},
   "source": [
    "$$\\vec{S}=(\\theta_1, Z_1,\\theta_2, Z_2) $$"
   ]
  },
  {
   "cell_type": "markdown",
   "id": "5e05cddb",
   "metadata": {},
   "source": [
    "This vector is crucial for sloving ODEs in python. In order to solve ODEs we need to write a function that takes S and t and returns:"
   ]
  },
  {
   "cell_type": "markdown",
   "id": "cc52e6f4",
   "metadata": {},
   "source": [
    "$$\\frac{d\\vec{S}}{dt}$$"
   ]
  },
  {
   "cell_type": "code",
   "execution_count": 34,
   "id": "5328bc7d",
   "metadata": {},
   "outputs": [],
   "source": [
    "def dSdt(S, t, g, m1, m2, L1, L2):\n",
    "    theta1, Z1, theta2, Z2 = S\n",
    "    return [dtheta1dt_f(Z1),\n",
    "        dZ1dt_f(t, g, m1, m2, L1, L2, theta1, theta2, Z1, Z2),\n",
    "        dtheta2dt_f(Z2),\n",
    "        dZ2dt_f(t, g, m1, m2, L1, L2, theta1, theta2, Z1, Z2)]# returning all the derivatives of the S components\n",
    "    "
   ]
  },
  {
   "cell_type": "code",
   "execution_count": 35,
   "id": "6f897f01",
   "metadata": {},
   "outputs": [],
   "source": [
    "t = np.linspace(0, 40, 1001)# between zero to forty seconds at 1001 time points. 25 data points(frames) per second. \n",
    "g = 9.81\n",
    "m1=1\n",
    "m2=1\n",
    "L1 = 1\n",
    "L2 = 1\n",
    "ans = odeint(dSdt, y0=[2, -2, -3, 1], t=t, args=(g,m1,m2,L1,L2))"
   ]
  },
  {
   "cell_type": "code",
   "execution_count": 36,
   "id": "b637a5a9",
   "metadata": {},
   "outputs": [
    {
     "data": {
      "text/plain": [
       "array([[  2.        ,  -2.        ,  -3.        ,   1.        ],\n",
       "       [  1.9132272 ,  -2.33980908,  -2.96060629,   0.95506723],\n",
       "       [  1.81263347,  -2.69335621,  -2.92488027,   0.81352424],\n",
       "       ...,\n",
       "       [  7.33528065,  -4.70317143, -11.98123184,  11.46776105],\n",
       "       [  7.11215921,  -5.6958222 , -11.48988127,  12.2340775 ],\n",
       "       [  6.92393398,  -3.68203716, -11.05131518,   9.75355587]])"
      ]
     },
     "execution_count": 36,
     "metadata": {},
     "output_type": "execute_result"
    }
   ],
   "source": [
    "ans"
   ]
  },
  {
   "cell_type": "markdown",
   "id": "09a85880",
   "metadata": {},
   "source": [
    "we get an array with solutions for $$\\theta_1, Z_1,\\theta_2, Z_2 $$"
   ]
  },
  {
   "cell_type": "markdown",
   "id": "11d7ae2d",
   "metadata": {},
   "source": [
    "In order to represent all the solutions for each parameter in a single array we transpose the answer array:"
   ]
  },
  {
   "cell_type": "code",
   "execution_count": 37,
   "id": "32fb1111",
   "metadata": {},
   "outputs": [
    {
     "data": {
      "text/plain": [
       "array([[  2.        ,   1.9132272 ,   1.81263347, ...,   7.33528065,\n",
       "          7.11215921,   6.92393398],\n",
       "       [ -2.        ,  -2.33980908,  -2.69335621, ...,  -4.70317143,\n",
       "         -5.6958222 ,  -3.68203716],\n",
       "       [ -3.        ,  -2.96060629,  -2.92488027, ..., -11.98123184,\n",
       "        -11.48988127, -11.05131518],\n",
       "       [  1.        ,   0.95506723,   0.81352424, ...,  11.46776105,\n",
       "         12.2340775 ,   9.75355587]])"
      ]
     },
     "execution_count": 37,
     "metadata": {},
     "output_type": "execute_result"
    }
   ],
   "source": [
    "ans.T"
   ]
  },
  {
   "cell_type": "markdown",
   "id": "ad7b38ac",
   "metadata": {},
   "source": [
    "Now we can index each array of solutions:"
   ]
  },
  {
   "cell_type": "code",
   "execution_count": 38,
   "id": "fc10a03a",
   "metadata": {},
   "outputs": [],
   "source": [
    "theta1=ans.T[0]\n",
    "Z1=ans.T[1]\n",
    "theta2=ans.T[2]\n",
    "Z2=ans.T[3]"
   ]
  },
  {
   "cell_type": "markdown",
   "id": "2fdbc6b4",
   "metadata": {},
   "source": [
    "Now we need to get all the positions of the pendulum in order to plot its motion:"
   ]
  },
  {
   "cell_type": "code",
   "execution_count": 39,
   "id": "7b7c006a",
   "metadata": {},
   "outputs": [],
   "source": [
    "def get_XY(t,theta1, theta2, L1, L2):\n",
    "    return (L1*np.sin(theta1),\n",
    "            -L1*np.cos(theta1),\n",
    "            L1*np.sin(theta1) + L2*np.sin(theta2),\n",
    "            -L1*np.cos(theta1) - L2*np.cos(theta2))\n",
    "X1, Y1, X2, Y2 = get_XY(t, theta1, theta2, L1, L2)"
   ]
  },
  {
   "cell_type": "code",
   "execution_count": 40,
   "id": "62af28f5",
   "metadata": {},
   "outputs": [
    {
     "data": {
      "image/png": "[encoded data removed]",
      "text/plain": [
       "<Figure size 576x576 with 1 Axes>"
      ]
     },
     "metadata": {
      "needs_background": "light"
     },
     "output_type": "display_data"
    }
   ],
   "source": [
    "def animate(i):\n",
    "    ln1.set_data([0, X1[i], X2[i]], [0, Y1[i], Y2[i]])\n",
    "    \n",
    "fig, ax = plt.subplots(1,1, figsize=(8,8))\n",
    "ax.set_facecolor('k')\n",
    "#ax.get_xaxis().set_ticks([])    # enable this to hide x axis ticks\n",
    "#ax.get_yaxis().set_ticks([])    # enable this to hide y axis ticks\n",
    "ln1, = plt.plot([], [], 'ro--', lw=3, markersize=8,color='purple')\n",
    "ax.set_ylim(-4,4)\n",
    "ax.set_xlim(-4,4)\n",
    "ani = animation.FuncAnimation(fig, animate, frames=1000, interval=50)\n",
    "ani.save('pen.gif',writer='pillow',fps=25)"
   ]
  },
  {
   "cell_type": "markdown",
   "id": "ca9e8f56",
   "metadata": {},
   "source": []
  },
  {
   "cell_type": "code",
   "execution_count": null,
   "id": "1e6a0959",
   "metadata": {},
   "outputs": [],
   "source": []
  },
  {
   "cell_type": "code",
   "execution_count": null,
   "id": "16be92cd",
   "metadata": {},
   "outputs": [],
   "source": []
  }
 ],
 "metadata": {
  "kernelspec": {
   "display_name": "Python 3",
   "language": "python",
   "name": "python3"
  },
  "language_info": {
   "codemirror_mode": {
    "name": "ipython",
    "version": 3
   },
   "file_extension": ".py",
   "mimetype": "text/x-python",
   "name": "python",
   "nbconvert_exporter": "python",
   "pygments_lexer": "ipython3",
   "version": "3.8.8"
  }
 },
 "nbformat": 4,
 "nbformat_minor": 5
}
