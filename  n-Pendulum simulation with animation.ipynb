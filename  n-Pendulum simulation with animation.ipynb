{
 "cells": [
  {
   "cell_type": "code",
   "execution_count": 10,
   "metadata": {},
   "outputs": [],
   "source": [
    "import matplotlib.pyplot as plt\n",
    "from scipy.integrate import odeint\n",
    "import numpy as np\n",
    "import matplotlib.animation as animation"
   ]
  },
  {
   "cell_type": "markdown",
   "metadata": {},
   "source": [
    "## Double Pendulum"
   ]
  },
  {
   "cell_type": "code",
   "execution_count": 11,
   "metadata": {},
   "outputs": [],
   "source": [
    "#Variables\n",
    "g = 9.8; #gravitation\n",
    "a = 1; #each pendulum's length"
   ]
  },
  {
   "cell_type": "code",
   "execution_count": 12,
   "metadata": {},
   "outputs": [],
   "source": [
    "def odeFunc(U, t):\n",
    "    x1, dx1, x2, dx2 = U; #position 1, velocity 1, position 2, velocity 2.\n",
    "\n",
    "    return [dx1, g*( 1*((x2-x1)/a - x1/a) - (x1/a)), dx2, g*(-(x2-x1)/a)]; #list of \"changes\" (derivatives of elements of U)"
   ]
  },
  {
   "cell_type": "code",
   "execution_count": 13,
   "metadata": {},
   "outputs": [],
   "source": [
    "t = np.linspace(0, 10, 1000); #time, timesteps\n",
    "#U0 = [1/np.sqrt(2), 0, 1/np.sqrt(2),0]\n",
    "U0 = [0.1, 0, 0.07, 0] #initial U vector: position 1, velocity 1, position 2, velocity 2.\n",
    "\n",
    "sol = odeint(odeFunc, U0, t) #calculate solution. returns array where each index holds U_t (U at time t). as such, x1 data is the first column, \n",
    "#x1 speed is the second column, etc..."
   ]
  },
  {
   "cell_type": "code",
   "execution_count": 14,
   "metadata": {},
   "outputs": [
    {
     "data": {
      "text/plain": [
       "[<matplotlib.lines.Line2D at 0x1b236d45ff0>]"
      ]
     },
     "execution_count": 14,
     "metadata": {},
     "output_type": "execute_result"
    }
   ],
   "source": [
    "plt.plot(t, sol[:,0]) #graphing the x position of the first body over time"
   ]
  },
  {
   "cell_type": "markdown",
   "metadata": {},
   "source": [
    "## Generalization to n-Pendulum"
   ]
  },
  {
   "cell_type": "code",
   "execution_count": 15,
   "metadata": {},
   "outputs": [],
   "source": [
    "def odeFunc(U,t):\n",
    "    x = U[0:n] #for odeint to work, U is defined as: first n elements are positions of n masses, following n elements are velocities\n",
    "\n",
    "    ddx = [g*((n-1)*((x[1]-x[0])/a - x[0]/a)-x[0]/a)]; #manually insert first acceleration because its calculation is different\n",
    "\n",
    "    for i in range(1,n-1):\n",
    "        temp = g*((n-1-i)*((x[i+1]-2*x[i]+x[i-1])/a)-(x[i]-x[i-1])/a) #calculate all accelerations except for first and last masses\n",
    "        ddx.append(temp)\n",
    "    \n",
    "    temp = g*(-(x[n-1]-x[n-2])/a)\n",
    "    ddx.append(temp) #manually insert last acceleration\n",
    "\n",
    "    return np.concatenate((U[n:], ddx)) #since y0 has to be of dim 1, U is formatted so first n elements are position and last n are velocities,\n",
    "    #so in the end, the \"derivative list\" that you return in odeFunc has first n elements velocities and last n elements accelerations"
   ]
  },
  {
   "cell_type": "code",
   "execution_count": 89,
   "metadata": {},
   "outputs": [],
   "source": [
    "def initialize(n, x0): #so you dont be monke\n",
    "    arr = [x0]*n\n",
    "    arr2 = [0]*n\n",
    "    return arr + arr2;\n",
    "\n",
    "def get_y(sol,num): #gets the y values at a given time (num = frame in animation)\n",
    "    x = np.concatenate(([0], sol[num][:n])); #includes the stationary anchor\n",
    "    y = [0]\n",
    "    for pend in range(n):\n",
    "        y.append(y[-1]-np.sqrt(a*a-np.abs(x[pend+1]-x[pend])**2)) #simple calculation we did for y values\n",
    "    return np.array(y)"
   ]
  },
  {
   "cell_type": "code",
   "execution_count": 94,
   "metadata": {},
   "outputs": [],
   "source": [
    "#Variables\n",
    "n = 20;\n",
    "g = 9.8; #gravitation\n",
    "a = 0.076; #pendulum length\n",
    "t = np.linspace(0, 10, 1000) #time list\n",
    "x0 = 0.0196\n",
    "U0 = initialize(n, x0) #first n entries are initial x positions for masses, second n entries are initial velocities\n",
    "\n",
    "sol = odeint(odeFunc, U0, t) #calculate solution"
   ]
  },
  {
   "cell_type": "markdown",
   "metadata": {},
   "source": [
    "## Animation:"
   ]
  },
  {
   "cell_type": "code",
   "execution_count": 100,
   "metadata": {},
   "outputs": [],
   "source": [
    "%matplotlib tk\n",
    "##initializing animation\n",
    "fig, ax = plt.subplots() #plots\n",
    "\n",
    "scale = 2\n",
    "\n",
    "line1, = ax.plot([-a*n,a*n], [-a*n,a*n], color=\"blue\") #keep in mind the comma. first frame defines scale\n",
    "scatter1 = plt.scatter([0], [0], color=\"orange\") #initializing plots - first frame\n",
    "\n",
    "def update(num, line1, scatter1, sol): #update function for funcanimation\n",
    "    \n",
    "    x = [0]\n",
    "    y = []\n",
    "    for i in range(n): #the x values for the pendulum in current time\n",
    "        x.append(sol[num][i] * scale)\n",
    "\n",
    "    y = get_y(sol,num) #y values in current time\n",
    "\n",
    "    \n",
    "    line1.set_data(x,y) #connect the joints to draw pendulum\n",
    "\n",
    "    offsets = []; #because set offsets is stupid\n",
    "    for i in range(len(x)): \n",
    "        offsets.append((x[i],y[i])); #it wants points as inputs, not an x and y list\n",
    "\n",
    "    scatter1.set_offsets(offsets); #set scatter - the joints\n",
    "\n",
    "    return [line1, scatter1] \n",
    "\n",
    "ani = animation.FuncAnimation(fig, update, len(sol[:,0]), fargs = [line1, scatter1, sol],\n",
    "                                interval = 5, blit=True); #len(sol) - amount of frames, fargs = extra\n",
    "                                                        #arguements for update, interval - length of frame"
   ]
  }
 ],
 "metadata": {
  "interpreter": {
   "hash": "0b94c482ce91e402b56434c1f1aa434378a7229f34957483aae7b372ff11d452"
  },
  "kernelspec": {
   "display_name": "Python 3",
   "language": "python",
   "name": "python3"
  },
  "language_info": {
   "codemirror_mode": {
    "name": "ipython",
    "version": 3
   },
   "file_extension": ".py",
   "mimetype": "text/x-python",
   "name": "python",
   "nbconvert_exporter": "python",
   "pygments_lexer": "ipython3",
   "version": "3.8.8"
  }
 },
 "nbformat": 4,
 "nbformat_minor": 2
}
