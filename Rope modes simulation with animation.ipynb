{
 "cells": [
  {
   "cell_type": "code",
   "execution_count": 1,
   "metadata": {},
   "outputs": [],
   "source": [
    "import numpy as np\n",
    "import matplotlib.pyplot as plt\n",
    "from scipy.integrate import odeint\n",
    "import matplotlib.animation as animation"
   ]
  },
  {
   "cell_type": "code",
   "execution_count": 2,
   "metadata": {},
   "outputs": [],
   "source": [
    "from scipy.special import jv"
   ]
  },
  {
   "cell_type": "code",
   "execution_count": 3,
   "metadata": {},
   "outputs": [],
   "source": [
    "def fac(n):\n",
    "    p = 1;\n",
    "    for i in range(2,n+1):\n",
    "        p*=i\n",
    "    return p\n",
    "\n",
    "def J_0(x, iter=20):\n",
    "    # s = x*0;\n",
    "    # for m in range(iter):\n",
    "    #     s+=(-1)**m * ( (x/2)**m / fac(m) )**2\n",
    "    # return s\n",
    "    return jv(0,x);"
   ]
  },
  {
   "cell_type": "code",
   "execution_count": 4,
   "metadata": {},
   "outputs": [],
   "source": [
    "Zn = np.array([2.4048, 5.5201, 8.637, 11.7915, 14.9309, 18.071])#, 21.21164, 24.352, 27.493, 30.634])"
   ]
  },
  {
   "cell_type": "code",
   "execution_count": 8,
   "metadata": {},
   "outputs": [],
   "source": [
    "def x(y,t, Zn, A=0.05, l=1):\n",
    "    s = 0;\n",
    "    for n in range(len(Zn)):\n",
    "        phi = A*J_0(np.sqrt((l-y)/l)*Zn[n]);\n",
    "        s += A * J_0(np.sqrt((l-y)/l)*Zn[n]) * np.cos( 1/2*np.sqrt(9.8/l)*Zn[n]*t-phi);\n",
    "    return s"
   ]
  },
  {
   "cell_type": "code",
   "execution_count": 9,
   "metadata": {},
   "outputs": [],
   "source": [
    "n = 30\n",
    "posArr = []\n",
    "tlist = np.linspace(0,3,400);\n",
    "for i in range(n):\n",
    "    posArr.append([]);\n",
    "    for t in tlist:\n",
    "        posArr[i].append(x(i/n, t, Zn))"
   ]
  },
  {
   "cell_type": "code",
   "execution_count": 10,
   "metadata": {},
   "outputs": [],
   "source": [
    "%matplotlib tk\n",
    "fig, ax = plt.subplots()\n",
    "\n",
    "line1, = ax.plot([-2,2], [-2,2], color=\"blue\")\n",
    "scatter1 = plt.scatter([-2], [2], color=\"orange\")\n",
    "\n",
    "def update(num, line1, scatter1, posArr, *args):\n",
    "    #scatter1.set_offsets([(1,0),(num/100, 5*(num/100)**2)])\n",
    "    y = [-i/n for i in range(n)]\n",
    "    x = [posArr[i][num] for i in range(n)]\n",
    "    line1.set_data(x,y)\n",
    "    return [line1, scatter1]\n",
    "ani = animation.FuncAnimation(fig, update, len(posArr[0]), fargs = [line1, scatter1, posArr],\n",
    "                                interval = 1, blit=True);"
   ]
  },
  {
   "cell_type": "code",
   "execution_count": null,
   "metadata": {},
   "outputs": [],
   "source": []
  }
 ],
 "metadata": {
  "interpreter": {
   "hash": "aa870de0f9003e14cf87de57ca0afca4cafcb9044dae2bce617a1964a2705ca6"
  },
  "kernelspec": {
   "display_name": "Python 3.10.3 64-bit",
   "language": "python",
   "name": "python3"
  },
  "language_info": {
   "codemirror_mode": {
    "name": "ipython",
    "version": 3
   },
   "file_extension": ".py",
   "mimetype": "text/x-python",
   "name": "python",
   "nbconvert_exporter": "python",
   "pygments_lexer": "ipython3",
   "version": "3.10.3"
  },
  "orig_nbformat": 4
 },
 "nbformat": 4,
 "nbformat_minor": 2
}
